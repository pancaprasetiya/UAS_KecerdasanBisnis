{
 "cells": [
  {
   "cell_type": "markdown",
   "id": "181591ff-343f-4986-895b-a3d27f151de6",
   "metadata": {
    "slideshow": {
     "slide_type": "slide"
    }
   },
   "source": [
    "# Langkah 1: Import Library"
   ]
  },
  {
   "cell_type": "code",
   "execution_count": 2,
   "id": "c1752252-e435-45c2-8ecb-3c9cd3e222e4",
   "metadata": {
    "slideshow": {
     "slide_type": "slide"
    }
   },
   "outputs": [],
   "source": [
    "import pandas as pd\n",
    "from sklearn.model_selection import train_test_split\n",
    "from sklearn.preprocessing import StandardScaler\n",
    "from sklearn.neighbors import KNeighborsClassifier"
   ]
  },
  {
   "cell_type": "markdown",
   "id": "2b83e2fa-95ea-4130-a69f-f7e1d9bc9527",
   "metadata": {
    "slideshow": {
     "slide_type": "slide"
    }
   },
   "source": [
    "# Langkah 2: Membaca Dataset"
   ]
  },
  {
   "cell_type": "code",
   "execution_count": 3,
   "id": "150a5ff4-d2a5-443d-aaec-ab7f1edeb26a",
   "metadata": {
    "scrolled": true,
    "slideshow": {
     "slide_type": "slide"
    }
   },
   "outputs": [
    {
     "name": "stdout",
     "output_type": "stream",
     "text": [
      "   Usia  Kelahiran_ke-  Waktu_Kelahiran  Tekanan_darah  Kelainan_jantung  \\\n",
      "0    22              1                0              2                 0   \n",
      "1    26              2                0              1                 0   \n",
      "2    26              2                1              1                 0   \n",
      "3    28              1                0              2                 0   \n",
      "4    22              2                0              1                 0   \n",
      "\n",
      "   Caesarian  \n",
      "0          0  \n",
      "1          1  \n",
      "2          0  \n",
      "3          0  \n",
      "4          1  \n"
     ]
    }
   ],
   "source": [
    "# Gantilah 'nama_file.csv' dengan nama file dataset yang sesuai\n",
    "data = pd.read_excel('D:/ABUNNNN/kuliah/Kecerdasan Bisnis/UAS/caesarian.xlsx')\n",
    "\n",
    "# Cetak beberapa baris pertama dataset untuk melihat struktur data\n",
    "print(data.head())"
   ]
  },
  {
   "cell_type": "markdown",
   "id": "522385ea-3913-47a8-9501-316cb66153d3",
   "metadata": {
    "slideshow": {
     "slide_type": "slide"
    }
   },
   "source": [
    "# Langkah 3: Memilih Fitur dan Target"
   ]
  },
  {
   "cell_type": "code",
   "execution_count": 4,
   "id": "6461eaa9-b637-4d96-9ef2-6b89b9114698",
   "metadata": {
    "slideshow": {
     "slide_type": "slide"
    }
   },
   "outputs": [],
   "source": [
    "# Memilih fitur yang akan digunakan untuk KNN\n",
    "features = ['Usia', 'Kelahiran_ke-', 'Waktu_Kelahiran', 'Tekanan_darah', 'Kelainan_jantung']\n",
    "\n",
    "# Memilih target (variable yang ingin diprediksi)\n",
    "target = 'Caesarian'"
   ]
  },
  {
   "cell_type": "markdown",
   "id": "16f8e78f-ff26-4a08-918e-fe10cfc56b78",
   "metadata": {
    "slideshow": {
     "slide_type": "slide"
    }
   },
   "source": [
    "# Langkah 4: Mempersiapkan Data"
   ]
  },
  {
   "cell_type": "code",
   "execution_count": 5,
   "id": "63d343f9-05ef-4966-836c-e693976b92d9",
   "metadata": {
    "slideshow": {
     "slide_type": "slide"
    }
   },
   "outputs": [],
   "source": [
    "# Memisahkan data menjadi fitur (X) dan target (y)\n",
    "X = data[features]\n",
    "y = data[target]"
   ]
  },
  {
   "cell_type": "markdown",
   "id": "1eab18e5-8595-4cf4-b33b-a366c1f837db",
   "metadata": {
    "slideshow": {
     "slide_type": "slide"
    }
   },
   "source": [
    "# Langkah 5: Normalisasi Data"
   ]
  },
  {
   "cell_type": "code",
   "execution_count": 6,
   "id": "fa0426a1-7767-43c9-a39c-c54f420d2482",
   "metadata": {
    "slideshow": {
     "slide_type": "slide"
    }
   },
   "outputs": [],
   "source": [
    "# Menggunakan StandardScaler untuk normalisasi data\n",
    "scaler = StandardScaler()\n",
    "X_scaled = scaler.fit_transform(X)"
   ]
  },
  {
   "cell_type": "markdown",
   "id": "fd2009f4-e0b2-47b9-aced-7d14f386015c",
   "metadata": {
    "slideshow": {
     "slide_type": "slide"
    }
   },
   "source": [
    "# Langkah 6: Membagi Data Menjadi Data Latih dan Data Uji"
   ]
  },
  {
   "cell_type": "code",
   "execution_count": 7,
   "id": "532996bc-c27c-4476-85b2-159bcbc7b211",
   "metadata": {
    "slideshow": {
     "slide_type": "slide"
    }
   },
   "outputs": [],
   "source": [
    "X_train, X_test, y_train, y_test = train_test_split(X_scaled, y, test_size=0.2, random_state=42)"
   ]
  },
  {
   "cell_type": "markdown",
   "id": "9b87c9fb-666b-4ac7-8bc5-26e63bafd682",
   "metadata": {
    "slideshow": {
     "slide_type": "slide"
    }
   },
   "source": [
    "# Langkah 7: Melakukan KNN dengan Key = 5"
   ]
  },
  {
   "cell_type": "markdown",
   "id": "14000f9d-c8f5-4eb9-a37f-fd980d8e7e34",
   "metadata": {
    "slideshow": {
     "slide_type": "slide"
    }
   },
   "source": [
    "a. Untuk Ibu hamil dengan Usia 25 Tahun, Kelahiran ke-1, Waktu kelahiran sesuai HPL, Tekanan darah Normal"
   ]
  },
  {
   "cell_type": "code",
   "execution_count": 8,
   "id": "13c98592-8c45-4b89-a385-590b37283b7b",
   "metadata": {
    "slideshow": {
     "slide_type": "slide"
    }
   },
   "outputs": [
    {
     "name": "stdout",
     "output_type": "stream",
     "text": [
      "Prediksi untuk Ibu hamil dengan Usia 25 Tahun, Kelahiran ke-1, Waktu kelahiran sesuai HPL, Tekanan darah Normal:\n",
      "Normal (0)\n"
     ]
    }
   ],
   "source": [
    "new_data_1 = pd.DataFrame([[25, 1, 0, 1, 0]], columns=features)\n",
    "knn_model = KNeighborsClassifier(n_neighbors=5)\n",
    "knn_model.fit(X_train, y_train)\n",
    "prediction_1 = knn_model.predict(scaler.transform(new_data_1))\n",
    "print(\"Prediksi untuk Ibu hamil dengan Usia 25 Tahun, Kelahiran ke-1, Waktu kelahiran sesuai HPL, Tekanan darah Normal:\")\n",
    "print(\"Caesarian (1)\" if prediction_1[0] == 1 else \"Normal (0)\")"
   ]
  },
  {
   "cell_type": "markdown",
   "id": "2185760c-1ac9-49f2-a17c-f045788fdb6e",
   "metadata": {
    "slideshow": {
     "slide_type": "slide"
    }
   },
   "source": [
    "b. Untuk Ibu hamil dengan Usia 35 Tahun, Kelahiran ke-1, Waktu kelahiran sesuai HPL, Tekanan darah Tinggi"
   ]
  },
  {
   "cell_type": "code",
   "execution_count": 9,
   "id": "8f154e21-ed54-47cf-8994-75076e93b2fd",
   "metadata": {
    "slideshow": {
     "slide_type": "slide"
    }
   },
   "outputs": [
    {
     "name": "stdout",
     "output_type": "stream",
     "text": [
      "Prediksi untuk Ibu hamil dengan Usia 35 Tahun, Kelahiran ke-1, Waktu kelahiran sesuai HPL, Tekanan darah Tinggi:\n",
      "Normal (0)\n"
     ]
    }
   ],
   "source": [
    "new_data_2 = pd.DataFrame([[35, 1, 0, 2, 0]], columns=features)\n",
    "prediction_2 = knn_model.predict(scaler.transform(new_data_2))\n",
    "print(\"Prediksi untuk Ibu hamil dengan Usia 35 Tahun, Kelahiran ke-1, Waktu kelahiran sesuai HPL, Tekanan darah Tinggi:\")\n",
    "print(\"Caesarian (1)\" if prediction_2[0] == 1 else \"Normal (0)\")"
   ]
  }
 ],
 "metadata": {
  "celltoolbar": "Slideshow",
  "kernelspec": {
   "display_name": "Python 3 (ipykernel)",
   "language": "python",
   "name": "python3"
  },
  "language_info": {
   "codemirror_mode": {
    "name": "ipython",
    "version": 3
   },
   "file_extension": ".py",
   "mimetype": "text/x-python",
   "name": "python",
   "nbconvert_exporter": "python",
   "pygments_lexer": "ipython3",
   "version": "3.10.4"
  }
 },
 "nbformat": 4,
 "nbformat_minor": 5
}
